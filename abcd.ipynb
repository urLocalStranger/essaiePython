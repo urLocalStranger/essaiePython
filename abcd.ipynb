{
    "cells": [
     {
      "cell_type": "markdown",
      "metadata": {},
      "source": [
       "## Correction - Premier pas avec Python"
      ]
     },
     {
      "cell_type": "markdown",
      "metadata": {},
      "source": [
       "### <u> I) Affectation de variables, affichage et typage de données"
      ]
     },
     {
      "cell_type": "code",
      "execution_count": 6,
      "metadata": {},
      "outputs": [],
      "source": [
       "#a)\n",
       "prenom = \"Thomas\""
      ]
     },
     {
      "cell_type": "code",
      "execution_count": 7,
      "metadata": {},
      "outputs": [
       {
        "name": "stdout",
        "output_type": "stream",
        "text": [
         "Je m'appelle Alexandre\n"
        ]
       }
      ],
      "source": [
       "# b)\n",
       "print(\"Je m'appelle\", prenom)"
      ]
     },
     {
      "cell_type": "code",
      "execution_count": 8,
      "metadata": {},
      "outputs": [
       {
        "name": "stdout",
        "output_type": "stream",
        "text": [
         "<class 'str'>\n"
        ]
       }
      ],
      "source": [
       "# c)\n",
       "print(type(prenom))"
      ]
     },
     {
      "cell_type": "code",
      "execution_count": 9,
      "metadata": {},
      "outputs": [],
      "source": [
       "# d)\n",
       "age = 43"
      ]
     },
     {
      "cell_type": "code",
      "execution_count": 11,
      "metadata": {},
      "outputs": [
       {
        "name": "stdout",
        "output_type": "stream",
        "text": [
         "J'ai 38 ans.\n"
        ]
       }
      ],
      "source": [
       "# e)\n",
       "print(\"J'ai\", age, \"ans.\")"
      ]
     },
     {
      "cell_type": "code",
      "execution_count": 14,
      "metadata": {},
      "outputs": [
       {
        "name": "stdout",
        "output_type": "stream",
        "text": [
         "<class 'int'>\n"
        ]
       }
      ],
      "source": [
       "# f)\n",
       "print(type(age))"
      ]
     },
     {
      "cell_type": "code",
      "execution_count": 12,
      "metadata": {},
      "outputs": [],
      "source": [
       "# g)\n",
       "decimal = 38.58"
      ]
     },
     {
      "cell_type": "code",
      "execution_count": 14,
      "metadata": {},
      "outputs": [
       {
        "name": "stdout",
        "output_type": "stream",
        "text": [
         "La variable decimal est égale à: 38.58\n"
        ]
       }
      ],
      "source": [
       "# h)\n",
       "print(\"La variable decimal est égale à:\", decimal)"
      ]
     },
     {
      "cell_type": "code",
      "execution_count": 15,
      "metadata": {},
      "outputs": [
       {
        "name": "stdout",
        "output_type": "stream",
        "text": [
         "<class 'float'>\n"
        ]
       }
      ],
      "source": [
       "# i)\n",
       "print(type(decimal))"
      ]
     },
     {
      "cell_type": "code",
      "execution_count": 17,
      "metadata": {},
      "outputs": [
       {
        "name": "stdout",
        "output_type": "stream",
        "text": [
         "38\n",
         "<class 'int'>\n"
        ]
       }
      ],
      "source": [
       "# j)\n",
       "decimal = int(decimal)\n",
       "print(decimal)\n",
       "print(type(decimal))\n",
       "\n",
       "# decimal devient un entier (integer)."
      ]
     },
     {
      "cell_type": "markdown",
      "metadata": {},
      "source": [
       "### <u>II) Opérations élémentaires"
      ]
     },
     {
      "cell_type": "code",
      "execution_count": 2,
      "metadata": {},
      "outputs": [],
      "source": [
       "# a)\n",
       "nombre1 = 5"
      ]
     },
     {
      "cell_type": "code",
      "execution_count": 4,
      "metadata": {},
      "outputs": [],
      "source": [
       "# b)\n",
       "nombre1 = nombre1 * 2"
      ]
     },
     {
      "cell_type": "code",
      "execution_count": 5,
      "metadata": {},
      "outputs": [
       {
        "name": "stdout",
        "output_type": "stream",
        "text": [
         "nombre1 * 2 =  10\n"
        ]
       }
      ],
      "source": [
       "# c)\n",
       "print(\"nombre1 * 2 = \", nombre1)"
      ]
     },
     {
      "cell_type": "code",
      "execution_count": 19,
      "metadata": {},
      "outputs": [],
      "source": [
       "# d)\n",
       "nombre2 = 3"
      ]
     },
     {
      "cell_type": "code",
      "execution_count": 20,
      "metadata": {},
      "outputs": [
       {
        "name": "stdout",
        "output_type": "stream",
        "text": [
         "nombre1 / nombre2 = 3.3333333333333335\n",
         "<class 'float'>\n"
        ]
       }
      ],
      "source": [
       "# e) i)\n",
       "division_reelle = nombre1 / nombre2\n",
       "print(\"nombre1 / nombre2 =\", division_reelle)\n",
       "print(type(division_reelle))"
      ]
     },
     {
      "cell_type": "code",
      "execution_count": 21,
      "metadata": {},
      "outputs": [
       {
        "name": "stdout",
        "output_type": "stream",
        "text": [
         "nombre1 // nombre2 = 3\n",
         "<class 'int'>\n"
        ]
       }
      ],
      "source": [
       "# e) ii)\n",
       "division_entiere = nombre1 // nombre2\n",
       "print(\"nombre1 // nombre2 =\", division_entiere)\n",
       "print(type(division_entiere))"
      ]
     },
     {
      "cell_type": "code",
      "execution_count": 23,
      "metadata": {},
      "outputs": [
       {
        "name": "stdout",
        "output_type": "stream",
        "text": [
         "Le reste de la division nombre1 / nombre2 = 1\n"
        ]
       }
      ],
      "source": [
       "#e) iii)\n",
       "modulo = nombre1 % nombre2\n",
       "print(\"Le reste de la division nombre1 / nombre2 =\", modulo)"
      ]
     },
     {
      "cell_type": "code",
      "execution_count": 40,
      "metadata": {},
      "outputs": [
       {
        "name": "stdout",
        "output_type": "stream",
        "text": [
         "nombre1 ** 2 = 100\n"
        ]
       }
      ],
      "source": [
       "# e) iv)\n",
       "puissance = nombre1 ** 2\n",
       "print(\"nombre1 ** 2 =\", puissance)"
      ]
     },
     {
      "cell_type": "markdown",
      "metadata": {},
      "source": [
       "### <u>III) Saisie de valeur par un utilisateur"
      ]
     },
     {
      "cell_type": "code",
      "execution_count": 24,
      "metadata": {},
      "outputs": [
       {
        "name": "stdout",
        "output_type": "stream",
        "text": [
         "Nous sommes mercredi\n"
        ]
       }
      ],
      "source": [
       "# a)\n",
       "jour = str(input(\"Quel jour sommes-nous aujourd'hui ?\"))\n",
       "print(\"Nous sommes\", jour)"
      ]
     },
     {
      "cell_type": "code",
      "execution_count": 25,
      "metadata": {},
      "outputs": [
       {
        "name": "stdout",
        "output_type": "stream",
        "text": [
         "Nous sommes le 654\n"
        ]
       }
      ],
      "source": [
       "# b)\n",
       "numero_jour = int(input(\"Quel numéro de jour sommes-nous aujourd'hui ?\"))\n",
       "print(\"Nous sommes le\", numero_jour)"
      ]
     },
     {
      "cell_type": "code",
      "execution_count": 26,
      "metadata": {},
      "outputs": [
       {
        "name": "stdout",
        "output_type": "stream",
        "text": [
         "Il fait 12.6 degrés celsius.\n"
        ]
       }
      ],
      "source": [
       "# c)\n",
       "temperature = float(input(\"Qeulle est la température aujourd'hui ?\"))\n",
       "print(\"Il fait\", round(temperature, 1), \"degrés celsius.\")"
      ]
     },
     {
      "cell_type": "code",
      "execution_count": 27,
      "metadata": {},
      "outputs": [
       {
        "name": "stdout",
        "output_type": "stream",
        "text": [
         "Nous sommes le mercredi 654 . Il fait 12.6 degrés celsius.\n"
        ]
       }
      ],
      "source": [
       "# d)\n",
       "print(\"Nous sommes le\", jour, numero_jour, \". Il fait\", round(temperature, 1), \"degrés celsius.\")"
      ]
     }
    ],
    "metadata": {
     "kernelspec": {
      "display_name": "Python 3",
      "language": "python",
      "name": "python3"
     },
     "language_info": {
      "codemirror_mode": {
       "name": "ipython",
       "version": 3
      },
      "file_extension": ".py",
      "mimetype": "text/x-python",
      "name": "python",
      "nbconvert_exporter": "python",
      "pygments_lexer": "ipython3",
      "version": "3.10.12"
     }
    },
    "nbformat": 4,
    "nbformat_minor": 2
   }