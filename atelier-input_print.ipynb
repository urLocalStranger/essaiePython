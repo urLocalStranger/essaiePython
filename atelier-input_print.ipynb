{
 "cells": [
  {
   "cell_type": "markdown",
   "metadata": {},
   "source": [
    "## Exercice 1 : Calcul de la moyenne de trois nombres\n",
    "\n",
    "Écrire un programme qui demande à l'utilisateur de saisir trois nombres entiers, calcul la moyenne des trois nombres et affiche le résultat précédé de la phrase \"La moyenne des trois nombres est: \""
   ]
  },
  {
   "cell_type": "code",
   "execution_count": 2,
   "metadata": {},
   "outputs": [
    {
     "name": "stdout",
     "output_type": "stream",
     "text": [
      "La moyenne des trois nombres est: 2.0\n"
     ]
    }
   ],
   "source": [
    "nb1 = float(input(\"---Bienvenue au calculateur de moyenne à trois nombres!---\\nVeuillez insérer votre premier nombre: \"))\n",
    "nb2 = float(input(\"Veuillez insérer votre premier nombre: \"))\n",
    "nb3 = float(input(\"Veuillez insérer votre troisième nombre: \"))\n",
    "print(f\"La moyenne des trois nombres est: {(nb1 + nb2 + nb3) / 3}\")"
   ]
  },
  {
   "cell_type": "markdown",
   "metadata": {},
   "source": [
    "## Exercice 2 : Calcul de la somme de deux nombres\n",
    "\n",
    "Écrire un programme qui demande à l'utilisateur de saisir deux nombres réels, calcul la somme des deux nombres et affiche le résultat précédé de la phrase \"La somme des deux nombres est: \""
   ]
  },
  {
   "cell_type": "code",
   "execution_count": null,
   "metadata": {},
   "outputs": [],
   "source": [
    "# Votre code ici"
   ]
  },
  {
   "cell_type": "markdown",
   "metadata": {},
   "source": [
    "## Exercice 3 : Conversion de température (Fahrenheit à Celsius)\n",
    "\n",
    "Écrire un programme qui demande à l'utilisateur de saisir une température en Fahrenheit, puis convert la température en Celsius et affiche le résultat avec la phrase \"La température valeur_F F équivaut à valeur_C degrès Celsius\".\n",
    "\n",
    "**Formule de conversion**: C = (F - 32) * 5/9"
   ]
  },
  {
   "cell_type": "code",
   "execution_count": null,
   "metadata": {},
   "outputs": [],
   "source": [
    "# Votre code ici"
   ]
  },
  {
   "cell_type": "markdown",
   "metadata": {},
   "source": [
    "## Exercice 4 : Calcul de l’aire d’un rectangle\n",
    "\n",
    "Écrire un programme qui demande à l'utilisateur de saisir la longueur et la largeur d'un rectangle, calcul l'aire et affiche le résultat avec la phrase \"L'aire du rectangle de longueur valeur_longeur et de largeur valeur_largeur est: \"\n",
    "\n",
    "**Formule de l'aire d'un rectangle**: longueur * largeur"
   ]
  },
  {
   "cell_type": "code",
   "execution_count": null,
   "metadata": {},
   "outputs": [],
   "source": [
    "# Votre code ici"
   ]
  },
  {
   "cell_type": "markdown",
   "metadata": {},
   "source": [
    "## Exercice 5 : Calcul de la circonférence d’un cercle\n",
    "\n",
    "Écrire un programme qui demande à l'utilisateur de saisir le rayon d'un cercle, calcul la circonférence du cercle et affiche le résultat avec la phrase \"L'aire du rectangle de longueur valeur_longeur et de largeur valeur_largeur est: \"\n",
    "\n",
    "**Formule de la circonférence** : multiplier le rayon par 2, puis multiplier le résultat par π (pi, utilisez la valeur 3.14. On verra plus tard comment utiliser le module mathématique)."
   ]
  },
  {
   "cell_type": "code",
   "execution_count": null,
   "metadata": {},
   "outputs": [],
   "source": [
    "# Votre code ici"
   ]
  }
 ],
 "metadata": {
  "kernelspec": {
   "display_name": "Python 3",
   "language": "python",
   "name": "python3"
  },
  "language_info": {
   "codemirror_mode": {
    "name": "ipython",
    "version": 3
   },
   "file_extension": ".py",
   "mimetype": "text/x-python",
   "name": "python",
   "nbconvert_exporter": "python",
   "pygments_lexer": "ipython3",
   "version": "3.12.1"
  }
 },
 "nbformat": 4,
 "nbformat_minor": 2
}
